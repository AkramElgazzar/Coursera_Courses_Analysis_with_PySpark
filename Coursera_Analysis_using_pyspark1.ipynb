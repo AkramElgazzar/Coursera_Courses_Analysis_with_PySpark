{
  "nbformat": 4,
  "nbformat_minor": 0,
  "metadata": {
    "colab": {
      "provenance": []
    },
    "kernelspec": {
      "name": "python3",
      "display_name": "Python 3"
    },
    "language_info": {
      "name": "python"
    }
  },
  "cells": [
    {
      "cell_type": "code",
      "execution_count": null,
      "metadata": {
        "colab": {
          "base_uri": "https://localhost:8080/"
        },
        "id": "MT6odolohpk_",
        "outputId": "cb255771-c2bc-4c8f-cd44-f22d4e8d0d1f"
      },
      "outputs": [
        {
          "output_type": "stream",
          "name": "stdout",
          "text": [
            "Collecting pyspark\n",
            "  Downloading pyspark-3.5.0.tar.gz (316.9 MB)\n",
            "\u001b[2K     \u001b[90m━━━━━━━━━━━━━━━━━━━━━━━━━━━━━━━━━━━━━━━━\u001b[0m \u001b[32m316.9/316.9 MB\u001b[0m \u001b[31m3.9 MB/s\u001b[0m eta \u001b[36m0:00:00\u001b[0m\n",
            "\u001b[?25h  Preparing metadata (setup.py) ... \u001b[?25l\u001b[?25hdone\n",
            "Requirement already satisfied: py4j==0.10.9.7 in /usr/local/lib/python3.10/dist-packages (from pyspark) (0.10.9.7)\n",
            "Building wheels for collected packages: pyspark\n",
            "  Building wheel for pyspark (setup.py) ... \u001b[?25l\u001b[?25hdone\n",
            "  Created wheel for pyspark: filename=pyspark-3.5.0-py2.py3-none-any.whl size=317425345 sha256=8dcc5cbd4afc0b289b12b1d86068a0bcf2d0edc071055aa91d4b0bbae42cef9d\n",
            "  Stored in directory: /root/.cache/pip/wheels/41/4e/10/c2cf2467f71c678cfc8a6b9ac9241e5e44a01940da8fbb17fc\n",
            "Successfully built pyspark\n",
            "Installing collected packages: pyspark\n",
            "Successfully installed pyspark-3.5.0\n"
          ]
        }
      ],
      "source": [
        "!pip install pyspark"
      ]
    },
    {
      "cell_type": "code",
      "source": [
        "# Import necessary libraries\n",
        "from pyspark.sql import SparkSession\n",
        "from pyspark.sql.functions import col, expr, avg, stddev, sum, count\n",
        "\n",
        "# Create a Spark session\n",
        "my_spark = SparkSession.builder.appName(\"CourseProcessing\").getOrCreate()\n",
        "print (my_spark)"
      ],
      "metadata": {
        "colab": {
          "base_uri": "https://localhost:8080/"
        },
        "id": "NpSkbsRxhrXh",
        "outputId": "199e07ed-7351-46e5-c43c-87cd33f3dc30"
      },
      "execution_count": null,
      "outputs": [
        {
          "output_type": "stream",
          "name": "stdout",
          "text": [
            "<pyspark.sql.session.SparkSession object at 0x7dad34131b40>\n"
          ]
        }
      ]
    },
    {
      "cell_type": "markdown",
      "source": [
        "# Data loading and exploration"
      ],
      "metadata": {
        "id": "OjApagDxkUxb"
      }
    },
    {
      "cell_type": "markdown",
      "source": [
        "### Load Coursera Course Dataset"
      ],
      "metadata": {
        "id": "xjNpU1XTAMJm"
      }
    },
    {
      "cell_type": "code",
      "source": [
        "dataset_path = \"/content/coursera_course_dataset.csv\"\n",
        "\n",
        "# Read dataset into DataFrame\n",
        "df = my_spark.read.csv(dataset_path, header=True, inferSchema=True)\n",
        "\n",
        "# Explore DataFrame structure and initial rows\n",
        "df.printSchema()\n",
        "df.show(5, truncate=False)"
      ],
      "metadata": {
        "colab": {
          "base_uri": "https://localhost:8080/"
        },
        "id": "iEdjQvt0i-S7",
        "outputId": "010c1406-7081-45f4-8d7b-0fafaffa8e2b"
      },
      "execution_count": null,
      "outputs": [
        {
          "output_type": "stream",
          "name": "stdout",
          "text": [
            "root\n",
            " |-- _c0: integer (nullable = true)\n",
            " |-- Title: string (nullable = true)\n",
            " |-- Organization: string (nullable = true)\n",
            " |-- Skills: string (nullable = true)\n",
            " |-- Ratings: double (nullable = true)\n",
            " |-- Review counts: string (nullable = true)\n",
            " |-- Metadata: string (nullable = true)\n",
            "\n",
            "+---+-------------------------------------+------------+----------------------------------------------------------------------------------------------------------------------------------------------------------------------------------------------------------------------------------------------------------------------------------------------------------------------------------------------------------------------------------------------------------------------------------------------------------------------------------------------------------------------------------------------------------------------------------+-------+-----------------+--------------------------------------------------+\n",
            "|_c0|Title                                |Organization|Skills                                                                                                                                                                                                                                                                                                                                                                                                                                                                                                                                                                            |Ratings|Review counts    |Metadata                                          |\n",
            "+---+-------------------------------------+------------+----------------------------------------------------------------------------------------------------------------------------------------------------------------------------------------------------------------------------------------------------------------------------------------------------------------------------------------------------------------------------------------------------------------------------------------------------------------------------------------------------------------------------------------------------------------------------------+-------+-----------------+--------------------------------------------------+\n",
            "|0  |Google Cybersecurity                 |Google      | Network Security, Python Programming, Linux, Cloud Computing, Algorithms, Audit, Computer Programming, Computer Security Incident Management, Cryptography, Databases, Leadership and Management, Network Architecture, Risk Management, SQL                                                                                                                                                                                                                                                                                                                                     |4.8    |4.8(20K reviews) |Beginner · Professional Certificate · 3 - 6 Months|\n",
            "|1  |Google Data Analytics                |Google      | Data Analysis, R Programming, SQL, Business Communication, Spreadsheet Software, Business Analysis, Data Visualization, Data Management, General Statistics, Big Data, Communication, Computer Programming, Data Science, Data Visualization Software, Databases, Exploratory Data Analysis, Extract, Transform, Load, Leadership and Management, Microsoft Excel, Problem Solving, Small Data, Statistical Programming, Tableau Software                                                                                                                                        |4.8    |4.8(137K reviews)|Beginner · Professional Certificate · 3 - 6 Months|\n",
            "|2  |Google Project Management:           |Google      | Project Management, Strategy and Operations, Leadership and Management, Communication, Business Communication, Collaboration, Agile Software Development, Software Engineering, Entrepreneurship, Scrum (Software Development), Planning, Supply Chain and Logistics, Change Management, Finance, Organizational Development, Product Management, Risk Management, Budget Management, Influencing, Culture, Emotional Intelligence, People Management, Problem Solving, Procurement                                                                                              |4.8    |4.8(100K reviews)|Beginner · Professional Certificate · 3 - 6 Months|\n",
            "|3  |IBM Data Science                     |IBM         | Python Programming, Data Science, Machine Learning, Data Analysis, Algorithms, Data Management, Data Visualization, Human Learning, R Programming, Computer Programming, Data Mining, Data Structures, Database Administration, Database Application, Database Theory, Databases, Deep Learning, Exploratory Data Analysis, Machine Learning Algorithms, Plot (Graphics), SQL, Data Model, Statistical Machine Learning, General Statistics, Probability & Statistics, Regression, Reinforcement Learning, Statistical Programming, Big Data, Cloud Computing, IBM Cloud, Writing|4.6    |4.6(120K reviews)|Beginner · Professional Certificate · 3 - 6 Months|\n",
            "|4  |Google Digital Marketing & E-commerce|Google      | Digital Marketing, Marketing, Marketing Management, Media Strategy & Planning, Sales, E-Commerce, Data Analysis, Social Media, Search Engine Optimization, Advertising, Communication, Persona Research, Strategy, Web Design, Web Development, Web Development Tools, Writing, Data Management, Market Analysis                                                                                                                                                                                                                                                                 |4.8    |4.8(23K reviews) |Beginner · Professional Certificate · 3 - 6 Months|\n",
            "+---+-------------------------------------+------------+----------------------------------------------------------------------------------------------------------------------------------------------------------------------------------------------------------------------------------------------------------------------------------------------------------------------------------------------------------------------------------------------------------------------------------------------------------------------------------------------------------------------------------------------------------------------------------+-------+-----------------+--------------------------------------------------+\n",
            "only showing top 5 rows\n",
            "\n"
          ]
        }
      ]
    },
    {
      "cell_type": "markdown",
      "source": [
        "#\tData cleaning and preparation"
      ],
      "metadata": {
        "id": "_sVIxvPhkqBd"
      }
    },
    {
      "cell_type": "markdown",
      "source": [
        "### Extract and Cast Review Count"
      ],
      "metadata": {
        "id": "yL42fTnVBWK_"
      }
    },
    {
      "cell_type": "code",
      "source": [
        "# Extract the numeric review count from the \"Review counts\" column and cast it to an integer\n",
        "df = df.withColumn(\n",
        "    \"ReviewCount\",\n",
        "    regexp_extract(col(\"Review counts\"), r\"\\((\\d+)K reviews\\)\", 1))\n",
        "\n",
        "#cast it to an integer\n",
        "df=df.withColumn(\"ReviewCount\",df.ReviewCount.cast(\"integer\"))\n",
        "\n",
        "# Display the extracted review counts\n",
        "df.select(\"ReviewCount\").show()"
      ],
      "metadata": {
        "colab": {
          "base_uri": "https://localhost:8080/"
        },
        "id": "JVCuu1AcHHIa",
        "outputId": "6602bd76-abb1-4d7a-b959-41f3e8f01025"
      },
      "execution_count": null,
      "outputs": [
        {
          "output_type": "stream",
          "name": "stdout",
          "text": [
            "+-----------+\n",
            "|ReviewCount|\n",
            "+-----------+\n",
            "|         20|\n",
            "|        137|\n",
            "|        100|\n",
            "|        120|\n",
            "|         23|\n",
            "|         73|\n",
            "|        183|\n",
            "|         19|\n",
            "|         75|\n",
            "|         44|\n",
            "|         47|\n",
            "|         42|\n",
            "|         86|\n",
            "|         60|\n",
            "|         47|\n",
            "|         83|\n",
            "|         30|\n",
            "|        142|\n",
            "|         46|\n",
            "|         49|\n",
            "+-----------+\n",
            "only showing top 20 rows\n",
            "\n"
          ]
        }
      ]
    },
    {
      "cell_type": "code",
      "source": [
        "df.printSchema()"
      ],
      "metadata": {
        "colab": {
          "base_uri": "https://localhost:8080/"
        },
        "id": "zjI03aZL954V",
        "outputId": "1a7c6fc9-0464-49bf-f43d-445bc8a7d0af"
      },
      "execution_count": null,
      "outputs": [
        {
          "output_type": "stream",
          "name": "stdout",
          "text": [
            "root\n",
            " |-- _c0: integer (nullable = true)\n",
            " |-- Title: string (nullable = true)\n",
            " |-- Organization: string (nullable = true)\n",
            " |-- Skills: string (nullable = true)\n",
            " |-- Ratings: double (nullable = true)\n",
            " |-- Review counts: string (nullable = true)\n",
            " |-- Metadata: string (nullable = true)\n",
            " |-- ReviewCount: integer (nullable = true)\n",
            "\n"
          ]
        }
      ]
    },
    {
      "cell_type": "code",
      "source": [
        "df.select(\"Metadata\").show()"
      ],
      "metadata": {
        "colab": {
          "base_uri": "https://localhost:8080/"
        },
        "id": "RZ-YKLzFNqNN",
        "outputId": "c55670fe-19d2-4966-a969-3dd33da03c74"
      },
      "execution_count": null,
      "outputs": [
        {
          "output_type": "stream",
          "name": "stdout",
          "text": [
            "+--------------------+\n",
            "|            Metadata|\n",
            "+--------------------+\n",
            "|Beginner · Profes...|\n",
            "|Beginner · Profes...|\n",
            "|Beginner · Profes...|\n",
            "|Beginner · Profes...|\n",
            "|Beginner · Profes...|\n",
            "|Beginner · Profes...|\n",
            "|Beginner · Profes...|\n",
            "|Beginner · Specia...|\n",
            "|Beginner · Profes...|\n",
            "|Beginner · Profes...|\n",
            "|Beginner · Profes...|\n",
            "|Beginner · Profes...|\n",
            "|Beginner · Specia...|\n",
            "|Beginner · Specia...|\n",
            "|Beginner · Profes...|\n",
            "|Beginner · Specia...|\n",
            "|Beginner · Specia...|\n",
            "|Intermediate · Sp...|\n",
            "|Beginner · Specia...|\n",
            "|Beginner · Specia...|\n",
            "+--------------------+\n",
            "only showing top 20 rows\n",
            "\n"
          ]
        }
      ]
    },
    {
      "cell_type": "markdown",
      "source": [
        "### Expand Metadata Column"
      ],
      "metadata": {
        "id": "BcRCASGgC-at"
      }
    },
    {
      "cell_type": "code",
      "source": [
        "# Split Metadata column into Level, Certificate_Type, and Duration\n",
        "df = df.withColumn('Level', split(df['Metadata'], ' · ')[0]) \\\n",
        "       .withColumn('Certificate_Type', split(df['Metadata'], ' · ')[1]) \\\n",
        "       .withColumn('Duration', split(df['Metadata'], ' · ')[2])\n",
        "\n",
        "# Display expanded columns\n",
        "df.select(\"Level\", \"Certificate_Type\", \"Duration\").show()\n"
      ],
      "metadata": {
        "colab": {
          "base_uri": "https://localhost:8080/"
        },
        "id": "KhyUqJc6OGDe",
        "outputId": "69dedd26-db37-45b6-f1a4-1cc10d418e0f"
      },
      "execution_count": null,
      "outputs": [
        {
          "output_type": "stream",
          "name": "stdout",
          "text": [
            "+------------+--------------------+------------+\n",
            "|       Level|    Certificate_Type|    Duration|\n",
            "+------------+--------------------+------------+\n",
            "|    Beginner|Professional Cert...|3 - 6 Months|\n",
            "|    Beginner|Professional Cert...|3 - 6 Months|\n",
            "|    Beginner|Professional Cert...|3 - 6 Months|\n",
            "|    Beginner|Professional Cert...|3 - 6 Months|\n",
            "|    Beginner|Professional Cert...|3 - 6 Months|\n",
            "|    Beginner|Professional Cert...|3 - 6 Months|\n",
            "|    Beginner|Professional Cert...|3 - 6 Months|\n",
            "|    Beginner|      Specialization|1 - 3 Months|\n",
            "|    Beginner|Professional Cert...|3 - 6 Months|\n",
            "|    Beginner|Professional Cert...|3 - 6 Months|\n",
            "|    Beginner|Professional Cert...|3 - 6 Months|\n",
            "|    Beginner|Professional Cert...|3 - 6 Months|\n",
            "|    Beginner|      Specialization|3 - 6 Months|\n",
            "|    Beginner|      Specialization|3 - 6 Months|\n",
            "|    Beginner|Professional Cert...|3 - 6 Months|\n",
            "|    Beginner|      Specialization|1 - 3 Months|\n",
            "|    Beginner|      Specialization|3 - 6 Months|\n",
            "|Intermediate|      Specialization|3 - 6 Months|\n",
            "|    Beginner|      Specialization|3 - 6 Months|\n",
            "|    Beginner|      Specialization|3 - 6 Months|\n",
            "+------------+--------------------+------------+\n",
            "only showing top 20 rows\n",
            "\n"
          ]
        }
      ]
    },
    {
      "cell_type": "code",
      "source": [
        "# Print Dataframe Summary\n",
        "df.show(5, truncate=False)\n",
        "df.printSchema()"
      ],
      "metadata": {
        "colab": {
          "base_uri": "https://localhost:8080/"
        },
        "id": "zm0OVu73PUEK",
        "outputId": "fe453c19-9bb7-4bec-f395-1d40a14e1fc9"
      },
      "execution_count": null,
      "outputs": [
        {
          "output_type": "stream",
          "name": "stdout",
          "text": [
            "+---+-------------------------------------+------------+----------------------------------------------------------------------------------------------------------------------------------------------------------------------------------------------------------------------------------------------------------------------------------------------------------------------------------------------------------------------------------------------------------------------------------------------------------------------------------------------------------------------------------------------------------------------------------+-------+-----------------+--------------------------------------------------+-----------+--------+------------------------+------------+\n",
            "|_c0|Title                                |Organization|Skills                                                                                                                                                                                                                                                                                                                                                                                                                                                                                                                                                                            |Ratings|Review counts    |Metadata                                          |ReviewCount|Level   |Certificate_Type        |Duration    |\n",
            "+---+-------------------------------------+------------+----------------------------------------------------------------------------------------------------------------------------------------------------------------------------------------------------------------------------------------------------------------------------------------------------------------------------------------------------------------------------------------------------------------------------------------------------------------------------------------------------------------------------------------------------------------------------------+-------+-----------------+--------------------------------------------------+-----------+--------+------------------------+------------+\n",
            "|0  |Google Cybersecurity                 |Google      | Network Security, Python Programming, Linux, Cloud Computing, Algorithms, Audit, Computer Programming, Computer Security Incident Management, Cryptography, Databases, Leadership and Management, Network Architecture, Risk Management, SQL                                                                                                                                                                                                                                                                                                                                     |4.8    |4.8(20K reviews) |Beginner · Professional Certificate · 3 - 6 Months|20         |Beginner|Professional Certificate|3 - 6 Months|\n",
            "|1  |Google Data Analytics                |Google      | Data Analysis, R Programming, SQL, Business Communication, Spreadsheet Software, Business Analysis, Data Visualization, Data Management, General Statistics, Big Data, Communication, Computer Programming, Data Science, Data Visualization Software, Databases, Exploratory Data Analysis, Extract, Transform, Load, Leadership and Management, Microsoft Excel, Problem Solving, Small Data, Statistical Programming, Tableau Software                                                                                                                                        |4.8    |4.8(137K reviews)|Beginner · Professional Certificate · 3 - 6 Months|137        |Beginner|Professional Certificate|3 - 6 Months|\n",
            "|2  |Google Project Management:           |Google      | Project Management, Strategy and Operations, Leadership and Management, Communication, Business Communication, Collaboration, Agile Software Development, Software Engineering, Entrepreneurship, Scrum (Software Development), Planning, Supply Chain and Logistics, Change Management, Finance, Organizational Development, Product Management, Risk Management, Budget Management, Influencing, Culture, Emotional Intelligence, People Management, Problem Solving, Procurement                                                                                              |4.8    |4.8(100K reviews)|Beginner · Professional Certificate · 3 - 6 Months|100        |Beginner|Professional Certificate|3 - 6 Months|\n",
            "|3  |IBM Data Science                     |IBM         | Python Programming, Data Science, Machine Learning, Data Analysis, Algorithms, Data Management, Data Visualization, Human Learning, R Programming, Computer Programming, Data Mining, Data Structures, Database Administration, Database Application, Database Theory, Databases, Deep Learning, Exploratory Data Analysis, Machine Learning Algorithms, Plot (Graphics), SQL, Data Model, Statistical Machine Learning, General Statistics, Probability & Statistics, Regression, Reinforcement Learning, Statistical Programming, Big Data, Cloud Computing, IBM Cloud, Writing|4.6    |4.6(120K reviews)|Beginner · Professional Certificate · 3 - 6 Months|120        |Beginner|Professional Certificate|3 - 6 Months|\n",
            "|4  |Google Digital Marketing & E-commerce|Google      | Digital Marketing, Marketing, Marketing Management, Media Strategy & Planning, Sales, E-Commerce, Data Analysis, Social Media, Search Engine Optimization, Advertising, Communication, Persona Research, Strategy, Web Design, Web Development, Web Development Tools, Writing, Data Management, Market Analysis                                                                                                                                                                                                                                                                 |4.8    |4.8(23K reviews) |Beginner · Professional Certificate · 3 - 6 Months|23         |Beginner|Professional Certificate|3 - 6 Months|\n",
            "+---+-------------------------------------+------------+----------------------------------------------------------------------------------------------------------------------------------------------------------------------------------------------------------------------------------------------------------------------------------------------------------------------------------------------------------------------------------------------------------------------------------------------------------------------------------------------------------------------------------------------------------------------------------+-------+-----------------+--------------------------------------------------+-----------+--------+------------------------+------------+\n",
            "only showing top 5 rows\n",
            "\n",
            "root\n",
            " |-- _c0: integer (nullable = true)\n",
            " |-- Title: string (nullable = true)\n",
            " |-- Organization: string (nullable = true)\n",
            " |-- Skills: string (nullable = true)\n",
            " |-- Ratings: double (nullable = true)\n",
            " |-- Review counts: string (nullable = true)\n",
            " |-- Metadata: string (nullable = true)\n",
            " |-- ReviewCount: integer (nullable = true)\n",
            " |-- Level: string (nullable = true)\n",
            " |-- Certificate_Type: string (nullable = true)\n",
            " |-- Duration: string (nullable = true)\n",
            "\n"
          ]
        }
      ]
    },
    {
      "cell_type": "markdown",
      "source": [
        "### Drop Unnecessary Columns and Review New DataFrame"
      ],
      "metadata": {
        "id": "OSwV9o_ID_gb"
      }
    },
    {
      "cell_type": "code",
      "source": [
        "new_df = df.drop(*[\"Metadata_Split\", \"Review counts\", \"Metadata\"])\n",
        "\n",
        "# Display and examine the updated DataFrame\n",
        "new_df.show(5, truncate=False)\n",
        "new_df.printSchema()"
      ],
      "metadata": {
        "colab": {
          "base_uri": "https://localhost:8080/"
        },
        "id": "o2f59aurRehh",
        "outputId": "41c65f4f-03fb-4926-a771-41b966e67691"
      },
      "execution_count": null,
      "outputs": [
        {
          "output_type": "stream",
          "name": "stdout",
          "text": [
            "+---+-------------------------------------+------------+----------------------------------------------------------------------------------------------------------------------------------------------------------------------------------------------------------------------------------------------------------------------------------------------------------------------------------------------------------------------------------------------------------------------------------------------------------------------------------------------------------------------------------------------------------------------------------+-------+-----------+--------+------------------------+------------+\n",
            "|_c0|Title                                |Organization|Skills                                                                                                                                                                                                                                                                                                                                                                                                                                                                                                                                                                            |Ratings|ReviewCount|Level   |Certificate_Type        |Duration    |\n",
            "+---+-------------------------------------+------------+----------------------------------------------------------------------------------------------------------------------------------------------------------------------------------------------------------------------------------------------------------------------------------------------------------------------------------------------------------------------------------------------------------------------------------------------------------------------------------------------------------------------------------------------------------------------------------+-------+-----------+--------+------------------------+------------+\n",
            "|0  |Google Cybersecurity                 |Google      | Network Security, Python Programming, Linux, Cloud Computing, Algorithms, Audit, Computer Programming, Computer Security Incident Management, Cryptography, Databases, Leadership and Management, Network Architecture, Risk Management, SQL                                                                                                                                                                                                                                                                                                                                     |4.8    |20         |Beginner|Professional Certificate|3 - 6 Months|\n",
            "|1  |Google Data Analytics                |Google      | Data Analysis, R Programming, SQL, Business Communication, Spreadsheet Software, Business Analysis, Data Visualization, Data Management, General Statistics, Big Data, Communication, Computer Programming, Data Science, Data Visualization Software, Databases, Exploratory Data Analysis, Extract, Transform, Load, Leadership and Management, Microsoft Excel, Problem Solving, Small Data, Statistical Programming, Tableau Software                                                                                                                                        |4.8    |137        |Beginner|Professional Certificate|3 - 6 Months|\n",
            "|2  |Google Project Management:           |Google      | Project Management, Strategy and Operations, Leadership and Management, Communication, Business Communication, Collaboration, Agile Software Development, Software Engineering, Entrepreneurship, Scrum (Software Development), Planning, Supply Chain and Logistics, Change Management, Finance, Organizational Development, Product Management, Risk Management, Budget Management, Influencing, Culture, Emotional Intelligence, People Management, Problem Solving, Procurement                                                                                              |4.8    |100        |Beginner|Professional Certificate|3 - 6 Months|\n",
            "|3  |IBM Data Science                     |IBM         | Python Programming, Data Science, Machine Learning, Data Analysis, Algorithms, Data Management, Data Visualization, Human Learning, R Programming, Computer Programming, Data Mining, Data Structures, Database Administration, Database Application, Database Theory, Databases, Deep Learning, Exploratory Data Analysis, Machine Learning Algorithms, Plot (Graphics), SQL, Data Model, Statistical Machine Learning, General Statistics, Probability & Statistics, Regression, Reinforcement Learning, Statistical Programming, Big Data, Cloud Computing, IBM Cloud, Writing|4.6    |120        |Beginner|Professional Certificate|3 - 6 Months|\n",
            "|4  |Google Digital Marketing & E-commerce|Google      | Digital Marketing, Marketing, Marketing Management, Media Strategy & Planning, Sales, E-Commerce, Data Analysis, Social Media, Search Engine Optimization, Advertising, Communication, Persona Research, Strategy, Web Design, Web Development, Web Development Tools, Writing, Data Management, Market Analysis                                                                                                                                                                                                                                                                 |4.8    |23         |Beginner|Professional Certificate|3 - 6 Months|\n",
            "+---+-------------------------------------+------------+----------------------------------------------------------------------------------------------------------------------------------------------------------------------------------------------------------------------------------------------------------------------------------------------------------------------------------------------------------------------------------------------------------------------------------------------------------------------------------------------------------------------------------------------------------------------------------+-------+-----------+--------+------------------------+------------+\n",
            "only showing top 5 rows\n",
            "\n",
            "root\n",
            " |-- _c0: integer (nullable = true)\n",
            " |-- Title: string (nullable = true)\n",
            " |-- Organization: string (nullable = true)\n",
            " |-- Skills: string (nullable = true)\n",
            " |-- Ratings: double (nullable = true)\n",
            " |-- ReviewCount: integer (nullable = true)\n",
            " |-- Level: string (nullable = true)\n",
            " |-- Certificate_Type: string (nullable = true)\n",
            " |-- Duration: string (nullable = true)\n",
            "\n"
          ]
        }
      ]
    },
    {
      "cell_type": "markdown",
      "source": [
        "#\tDescriptive and exploratory analysis"
      ],
      "metadata": {
        "id": "B1GcQSlyk35R"
      }
    },
    {
      "cell_type": "markdown",
      "source": [
        "### Analyze Course Titles and Skills"
      ],
      "metadata": {
        "id": "2Lw0dIL0ErfP"
      }
    },
    {
      "cell_type": "code",
      "source": [
        "# Filter courses with high ratings\n",
        "highly_rated_courses = new_df.filter(col('Ratings') >= 4.5)\n",
        "\n",
        "print(\"Courses with Ratings Above 4.5:\")\n",
        "highly_rated_courses.show(10, truncate=False)"
      ],
      "metadata": {
        "colab": {
          "base_uri": "https://localhost:8080/"
        },
        "id": "d698U2ailELO",
        "outputId": "2ef4ec29-7c44-40f1-9483-4899606b62a4"
      },
      "execution_count": null,
      "outputs": [
        {
          "output_type": "stream",
          "name": "stdout",
          "text": [
            "Courses with Ratings Above 4.5:\n",
            "+---+-------------------------------------+------------------+------------------------------------------------------------------------------------------------------------------------------------------------------------------------------------------------------------------------------------------------------------------------------------------------------------------------------------------------------------------------------------------------------------------------------------------------------------------------------------------------------------------------------------------------------------------------------------------------------------------------------------------------------------------------------------------------+-------+-----------+--------+------------------------+------------+\n",
            "|_c0|Title                                |Organization      |Skills                                                                                                                                                                                                                                                                                                                                                                                                                                                                                                                                                                                                                                                                                          |Ratings|ReviewCount|Level   |Certificate_Type        |Duration    |\n",
            "+---+-------------------------------------+------------------+------------------------------------------------------------------------------------------------------------------------------------------------------------------------------------------------------------------------------------------------------------------------------------------------------------------------------------------------------------------------------------------------------------------------------------------------------------------------------------------------------------------------------------------------------------------------------------------------------------------------------------------------------------------------------------------------+-------+-----------+--------+------------------------+------------+\n",
            "|0  |Google Cybersecurity                 |Google            | Network Security, Python Programming, Linux, Cloud Computing, Algorithms, Audit, Computer Programming, Computer Security Incident Management, Cryptography, Databases, Leadership and Management, Network Architecture, Risk Management, SQL                                                                                                                                                                                                                                                                                                                                                                                                                                                   |4.8    |20         |Beginner|Professional Certificate|3 - 6 Months|\n",
            "|1  |Google Data Analytics                |Google            | Data Analysis, R Programming, SQL, Business Communication, Spreadsheet Software, Business Analysis, Data Visualization, Data Management, General Statistics, Big Data, Communication, Computer Programming, Data Science, Data Visualization Software, Databases, Exploratory Data Analysis, Extract, Transform, Load, Leadership and Management, Microsoft Excel, Problem Solving, Small Data, Statistical Programming, Tableau Software                                                                                                                                                                                                                                                      |4.8    |137        |Beginner|Professional Certificate|3 - 6 Months|\n",
            "|2  |Google Project Management:           |Google            | Project Management, Strategy and Operations, Leadership and Management, Communication, Business Communication, Collaboration, Agile Software Development, Software Engineering, Entrepreneurship, Scrum (Software Development), Planning, Supply Chain and Logistics, Change Management, Finance, Organizational Development, Product Management, Risk Management, Budget Management, Influencing, Culture, Emotional Intelligence, People Management, Problem Solving, Procurement                                                                                                                                                                                                            |4.8    |100        |Beginner|Professional Certificate|3 - 6 Months|\n",
            "|3  |IBM Data Science                     |IBM               | Python Programming, Data Science, Machine Learning, Data Analysis, Algorithms, Data Management, Data Visualization, Human Learning, R Programming, Computer Programming, Data Mining, Data Structures, Database Administration, Database Application, Database Theory, Databases, Deep Learning, Exploratory Data Analysis, Machine Learning Algorithms, Plot (Graphics), SQL, Data Model, Statistical Machine Learning, General Statistics, Probability & Statistics, Regression, Reinforcement Learning, Statistical Programming, Big Data, Cloud Computing, IBM Cloud, Writing                                                                                                              |4.6    |120        |Beginner|Professional Certificate|3 - 6 Months|\n",
            "|4  |Google Digital Marketing & E-commerce|Google            | Digital Marketing, Marketing, Marketing Management, Media Strategy & Planning, Sales, E-Commerce, Data Analysis, Social Media, Search Engine Optimization, Advertising, Communication, Persona Research, Strategy, Web Design, Web Development, Web Development Tools, Writing, Data Management, Market Analysis                                                                                                                                                                                                                                                                                                                                                                               |4.8    |23         |Beginner|Professional Certificate|3 - 6 Months|\n",
            "|5  |IBM Data Analyst                     |IBM               | Python Programming, Microsoft Excel, Data Visualization, Spreadsheet Software, Data Analysis, Databases, SQL, Plot (Graphics), Data Management, Data Structures, Exploratory Data Analysis, Machine Learning, Business Analysis, Computer Programming, Database Administration, Database Application, Database Theory, Statistical Visualization, Data Mining, Data Science, General Statistics, NoSQL, R Programming, Cloud Computing, Data Visualization Software, IBM Cloud, Interactive Data Visualization, Machine Learning Algorithms, Probability & Statistics, Regression, Statistical Programming                                                                                     |4.6    |73         |Beginner|Professional Certificate|3 - 6 Months|\n",
            "|6  |Google IT Support                    |Google            | Computer Networking, Network Architecture, Network Model, Networking Hardware, Network Analysis, Computer Architecture, Critical Thinking, Problem Solving, Communication, Human Computer Interaction, Network Security, Linux, System Security, Cloud Computing, Computer Programming, Customer Support, Cryptography, Leadership and Management, Operating Systems                                                                                                                                                                                                                                                                                                                           |4.8    |183        |Beginner|Professional Certificate|3 - 6 Months|\n",
            "|7  |Machine Learning                     |Multiple educators| Machine Learning, Machine Learning Algorithms, Applied Machine Learning, Algorithms, Deep Learning, Machine Learning Software, Artificial Neural Networks, Human Learning, Python Programming, Regression, Statistical Machine Learning, Tensorflow, Mathematics, Critical Thinking, Network Model, Reinforcement Learning                                                                                                                                                                                                                                                                                                                                                                     |4.9    |19         |Beginner|Specialization          |1 - 3 Months|\n",
            "|8  |Google UX Design                     |Google            | User Experience, User Experience Design, User Research, Audit, Collaboration, Human Computer Interaction, Planning, Product Design, Product Development, Social Media, Web Design, Web Development Tools                                                                                                                                                                                                                                                                                                                                                                                                                                                                                       |4.8    |75         |Beginner|Professional Certificate|3 - 6 Months|\n",
            "|9  |IBM DevOps and Software Engineering  |IBM               | DevOps, Software Engineering, Cloud Computing, Computer Programming, Application Development, Python Programming, Software Architecture, Cloud Applications, Continuous Delivery, Continuous Integration, Software Engineering Tools, Agile Software Development, Programming Principles, Security Engineering, Software Testing, Cloud Infrastructure, Kubernetes, Cloud-Based Integration, Microarchitecture, Cloud Platforms, Communication, IBM Cloud, Scrum (Software Development), Software Security, Cloud Storage, Docker (Software), Linux, Software-Defined Networking, Technical Product Management, Collaboration, Leadership and Management, Data Analysis, Mergers & Acquisitions|4.6    |44         |Beginner|Professional Certificate|3 - 6 Months|\n",
            "+---+-------------------------------------+------------------+------------------------------------------------------------------------------------------------------------------------------------------------------------------------------------------------------------------------------------------------------------------------------------------------------------------------------------------------------------------------------------------------------------------------------------------------------------------------------------------------------------------------------------------------------------------------------------------------------------------------------------------------------------------------------------------------+-------+-----------+--------+------------------------+------------+\n",
            "only showing top 10 rows\n",
            "\n"
          ]
        }
      ]
    },
    {
      "cell_type": "code",
      "source": [
        "# Select relevant columns for analysis\n",
        "title_skills_df = new_df.select(col(\"Title\"), col(\"Skills\"))\n",
        "\n",
        "# Analyze word frequencies:\n",
        "#   - Group by Title words and count occurrences\n",
        "#   - Group by Skill words and count occurrences\n",
        "#   - Display top 10 frequent words for each\n",
        "\n",
        "title_word_counts = new_df.groupBy(\"Title\").count().orderBy(\"count\", ascending=False)\n",
        "print(\"Top 10 frequent words in course titles:\")\n",
        "title_word_counts.show(10)\n",
        "\n",
        "\n",
        "skill_word_counts = new_df.groupBy(\"Skills\").count().orderBy(\"count\", ascending=False)\n",
        "print(\"Top 10 frequent words in course skills:\")\n",
        "skill_word_counts.show(10)"
      ],
      "metadata": {
        "colab": {
          "base_uri": "https://localhost:8080/"
        },
        "id": "CiXKXALWU5JC",
        "outputId": "de40bb71-d93d-44cc-93c9-880c31dd1726"
      },
      "execution_count": null,
      "outputs": [
        {
          "output_type": "stream",
          "name": "stdout",
          "text": [
            "Top 10 frequent words in course titles:\n",
            "+--------------------+-----+\n",
            "|               Title|count|\n",
            "+--------------------+-----+\n",
            "|Linear Algebra fo...|    1|\n",
            "|What is Data Scie...|    1|\n",
            "|    Entrepreneurship|    1|\n",
            "|Build a Modern Co...|    1|\n",
            "|Perform data scie...|    1|\n",
            "|Python Project fo...|    1|\n",
            "|Data Science Caps...|    1|\n",
            "|Customer Service ...|    1|\n",
            "|Leading Diverse T...|    1|\n",
            "|     Virtual Reality|    1|\n",
            "+--------------------+-----+\n",
            "only showing top 10 rows\n",
            "\n",
            "Top 10 frequent words in course skills:\n",
            "+--------------------+-----+\n",
            "|              Skills|count|\n",
            "+--------------------+-----+\n",
            "|     Cloud Computing|    7|\n",
            "| Cloud Computing,...|    4|\n",
            "|   Critical Thinking|    3|\n",
            "|       Communication|    3|\n",
            "| Communication, L...|    2|\n",
            "|            Planning|    2|\n",
            "| HTML and CSS, Re...|    2|\n",
            "| Leadership and M...|    2|\n",
            "| Cloud Applicatio...|    2|\n",
            "| Leadership and M...|    2|\n",
            "+--------------------+-----+\n",
            "only showing top 10 rows\n",
            "\n"
          ]
        }
      ]
    },
    {
      "cell_type": "markdown",
      "source": [
        "### Analyze Course Providers by Average Ratings"
      ],
      "metadata": {
        "id": "L8C6RevgHlaU"
      }
    },
    {
      "cell_type": "code",
      "source": [
        "# Select relevant columns\n",
        "organization_stats_df = new_df.select(col(\"Organization\"), col(\"Ratings\"), col(\"ReviewCount\"), col(\"Certificate_Type\"))\n",
        "\n",
        "# Group by organization and calculate aggregate statistics\n",
        "organization_comparison = organization_stats_df.groupBy(\"Organization\").agg(\n",
        "    avg(\"Ratings\").alias(\"Average_Ratings\"),\n",
        "    sum(\"ReviewCount\").alias(\"Total_ReviewCount\"),\n",
        "    count(\"Certificate_Type\").alias(\"Certificate_Count\")\n",
        ")\n",
        "\n",
        "# Order the results by average ratings\n",
        "organization_comparison = organization_comparison.orderBy(\"Average_Ratings\", ascending=False)\n",
        "\n",
        "# Display the comparison results\n",
        "organization_comparison.show(truncate=False)"
      ],
      "metadata": {
        "colab": {
          "base_uri": "https://localhost:8080/"
        },
        "id": "Tw68YAngaOBg",
        "outputId": "e58f84c7-0ddd-4b40-e2ce-8e4594a82874"
      },
      "execution_count": null,
      "outputs": [
        {
          "output_type": "stream",
          "name": "stdout",
          "text": [
            "+------------------------------+-----------------+-----------------+-----------------+\n",
            "|Organization                  |Average_Ratings  |Total_ReviewCount|Certificate_Count|\n",
            "+------------------------------+-----------------+-----------------+-----------------+\n",
            "|Akamai Technologies, Inc.     |4.95             |NULL             |2                |\n",
            "|Arizona State University      |4.9              |31               |3                |\n",
            "|Hebrew University of Jerusalem|4.9              |NULL             |1                |\n",
            "|Deep Teaching Solutions       |4.85             |88               |2                |\n",
            "|Yale University               |4.833333333333333|53               |6                |\n",
            "|Macquarie University          |4.833333333333333|59               |3                |\n",
            "|Vanderbilt University         |4.82             |20               |5                |\n",
            "|Emory University              |4.8              |NULL             |1                |\n",
            "|Berklee                       |4.8              |5                |3                |\n",
            "|University of Copenhagen      |4.8              |NULL             |1                |\n",
            "|The Museum of Modern Art      |4.8              |NULL             |1                |\n",
            "|Universidade de São Paulo     |4.8              |NULL             |1                |\n",
            "|IIMA - IIM Ahmedabad          |4.8              |NULL             |1                |\n",
            "|University of Zurich          |4.8              |NULL             |1                |\n",
            "|MedCerts                      |4.8              |NULL             |2                |\n",
            "|HRCI                          |4.8              |NULL             |2                |\n",
            "|Knowledge Accelerators        |4.8              |NULL             |1                |\n",
            "|The University of Sydney      |4.8              |NULL             |1                |\n",
            "|Universiteit Leiden           |4.8              |NULL             |1                |\n",
            "|Università Bocconi            |4.766666666666667|NULL             |3                |\n",
            "+------------------------------+-----------------+-----------------+-----------------+\n",
            "only showing top 20 rows\n",
            "\n"
          ]
        }
      ]
    },
    {
      "cell_type": "markdown",
      "source": [
        "### Analyze Correlations between Ratings and ReviewCount"
      ],
      "metadata": {
        "id": "CM1U62ixKQHM"
      }
    },
    {
      "cell_type": "code",
      "source": [
        "# Select relevant columns\n",
        "selected_df = new_df.select(col(\"Ratings\"), col(\"ReviewCount\"))\n",
        "\n",
        "# Handle missing values\n",
        "selected_df = selected_df.dropna()\n",
        "\n",
        "# Calculate and display correlations\n",
        "correlation_matrix = selected_df.select(corr(\"Ratings\", \"ReviewCount\"))\n",
        "\n",
        "# Display the correlation matrix\n",
        "print(\"Correlation matrix:\")\n",
        "correlation_matrix.show()"
      ],
      "metadata": {
        "colab": {
          "base_uri": "https://localhost:8080/"
        },
        "id": "AatxQwRddwnA",
        "outputId": "86bf0065-98e0-4e93-aa8e-8a1cd4d155c4"
      },
      "execution_count": null,
      "outputs": [
        {
          "output_type": "stream",
          "name": "stdout",
          "text": [
            "Correlation matrix:\n",
            "+--------------------------+\n",
            "|corr(Ratings, ReviewCount)|\n",
            "+--------------------------+\n",
            "|        0.2370642575156333|\n",
            "+--------------------------+\n",
            "\n"
          ]
        }
      ]
    },
    {
      "cell_type": "markdown",
      "source": [
        "### Analyze Course Duration by Organization and Level"
      ],
      "metadata": {
        "id": "Vp2fyC5LPCpB"
      }
    },
    {
      "cell_type": "code",
      "source": [
        "# Select relevant columns (duration, organization, level) and clean duration data\n",
        "selected_DOL_df = new_df.select(col(\"Duration\"), col(\"Organization\"), col(\"Level\"))\n",
        "selected_DOL_df = selected_DOL_df.withColumn(\"Duration\", expr(\"regexp_replace(Duration, '[^0-9]+', '')\").cast(\"integer\"))\n",
        "\n",
        "# Calculate and display duration statistics\n",
        "duration_analysis = selected_DOL_df.groupBy(\"Organization\", \"Level\").agg(\n",
        "    avg(\"Duration\").alias(\"Average_Duration\")\n",
        ")\n",
        "\n",
        "# Show the duration analysis\n",
        "duration_analysis.show(truncate=False)"
      ],
      "metadata": {
        "colab": {
          "base_uri": "https://localhost:8080/"
        },
        "id": "bQQECIyMgjTX",
        "outputId": "dd6fa5c8-564e-49b8-f2d0-9bb1fa720875"
      },
      "execution_count": null,
      "outputs": [
        {
          "output_type": "stream",
          "name": "stdout",
          "text": [
            "+--------------------------------------------------+------------+------------------+\n",
            "|Organization                                      |Level       |Average_Duration  |\n",
            "+--------------------------------------------------+------------+------------------+\n",
            "|Georgia Institute of Technology                   |Intermediate|13.0              |\n",
            "|University of Minnesota                           |Beginner    |36.0              |\n",
            "|Northwestern University                           |Beginner    |36.0              |\n",
            "|Erasmus University Rotterdam                      |Beginner    |13.0              |\n",
            "|Universidad Nacional Autónoma de México           |Beginner    |13.5              |\n",
            "|ESSEC Business School                             |Beginner    |36.0              |\n",
            "|Arizona State University                          |Mixed       |13.0              |\n",
            "|Microsoft                                         |Intermediate|19.0              |\n",
            "|Columbia University                               |Mixed       |36.0              |\n",
            "|California Institute of the Arts                  |Beginner    |36.0              |\n",
            "|Duke University                                   |Intermediate|19.857142857142858|\n",
            "|Johns Hopkins University                          |Advanced    |13.5              |\n",
            "|Palo Alto Networks                                |Beginner    |36.0              |\n",
            "|Starweaver                                        |Beginner    |14.0              |\n",
            "|The Hong Kong University of Science and Technology|Intermediate|14.0              |\n",
            "|Universiteit Leiden                               |Beginner    |13.0              |\n",
            "|University of Illinois at Urbana-Champaign        |Intermediate|24.5              |\n",
            "|University of California San Diego                |Beginner    |28.666666666666668|\n",
            "|University of London                              |Mixed       |13.5              |\n",
            "|INSEAD                                            |Mixed       |13.0              |\n",
            "+--------------------------------------------------+------------+------------------+\n",
            "only showing top 20 rows\n",
            "\n"
          ]
        }
      ]
    },
    {
      "cell_type": "markdown",
      "source": [
        "### Analyze Course Difficulty Level Distribution"
      ],
      "metadata": {
        "id": "QE20LweTQZrw"
      }
    },
    {
      "cell_type": "code",
      "source": [
        "# Select and group by difficulty level\n",
        "level_df = new_df.select(col(\"Level\"))\n",
        "\n",
        "level_distribution = level_df.groupBy(\"Level\").agg(count(\"*\").alias(\"Course_Count\"))\n",
        "\n",
        "# Display the distribution\n",
        "level_distribution.show()"
      ],
      "metadata": {
        "colab": {
          "base_uri": "https://localhost:8080/"
        },
        "id": "sWtkrTiNh0VR",
        "outputId": "342f3706-a19f-419e-f702-f66fa2bccb5b"
      },
      "execution_count": null,
      "outputs": [
        {
          "output_type": "stream",
          "name": "stdout",
          "text": [
            "+------------+------------+\n",
            "|       Level|Course_Count|\n",
            "+------------+------------+\n",
            "|    Advanced|          18|\n",
            "|       Mixed|          39|\n",
            "|Intermediate|         153|\n",
            "|    Beginner|         413|\n",
            "+------------+------------+\n",
            "\n"
          ]
        }
      ]
    },
    {
      "cell_type": "markdown",
      "source": [
        "### Analyze Course Difficulty by Average Ratings and Review Counts"
      ],
      "metadata": {
        "id": "vvlYBtQIS-Un"
      }
    },
    {
      "cell_type": "code",
      "source": [
        "# Select relevant columns (difficulty level, ratings, review counts)\n",
        "level_rating_review_df = new_df.select(col(\"Level\"), col(\"Ratings\"), col(\"ReviewCount\"))\n",
        "\n",
        "# Calculate and display average ratings and total review counts per difficulty\n",
        "level_analysis = level_rating_review_df.groupBy(\"Level\").agg(\n",
        "    avg(\"Ratings\").alias(\"Average_Ratings\"),\n",
        "    sum(\"ReviewCount\").alias(\"Total_ReviewCount\")\n",
        ")\n",
        "\n",
        "# Show the analysis results\n",
        "level_analysis.show()"
      ],
      "metadata": {
        "colab": {
          "base_uri": "https://localhost:8080/"
        },
        "id": "zvmwdf0XxIWT",
        "outputId": "25f609e0-7671-4f27-ac40-c6fef7781478"
      },
      "execution_count": null,
      "outputs": [
        {
          "output_type": "stream",
          "name": "stdout",
          "text": [
            "+------------+-----------------+-----------------+\n",
            "|       Level|  Average_Ratings|Total_ReviewCount|\n",
            "+------------+-----------------+-----------------+\n",
            "|    Advanced|4.627777777777777|             NULL|\n",
            "|       Mixed|4.633333333333333|               83|\n",
            "|Intermediate|4.573202614379085|             1063|\n",
            "|    Beginner|4.667312348668278|             3963|\n",
            "+------------+-----------------+-----------------+\n",
            "\n"
          ]
        }
      ]
    },
    {
      "cell_type": "markdown",
      "source": [
        "### Analyze Certificate Type Distribution by Organization"
      ],
      "metadata": {
        "id": "Sqjhv3rfUdxu"
      }
    },
    {
      "cell_type": "code",
      "source": [
        "# Select relevant columns\n",
        "certificate_org_df = new_df.select(col(\"Certificate_Type\"), col(\"Organization\"))\n",
        "\n",
        "# Group by certificate type and organization, count occurrences\n",
        "certificate_analysis = certificate_org_df.groupBy(\"Certificate_Type\", \"Organization\").agg(\n",
        "    count(\"*\").alias(\"Certificate_Count\")\n",
        ")\n",
        "# Order by certificate count in descending order\n",
        "certificate_analysis = certificate_analysis.orderBy(\"Certificate_Count\", ascending=False)\n",
        "\n",
        "# Show the certificate type analysis\n",
        "certificate_analysis.show(truncate=False)"
      ],
      "metadata": {
        "colab": {
          "base_uri": "https://localhost:8080/"
        },
        "id": "PPQjznUVyXXH",
        "outputId": "4a3e8190-3c0f-4eaa-cd3d-3671e48488b2"
      },
      "execution_count": null,
      "outputs": [
        {
          "output_type": "stream",
          "name": "stdout",
          "text": [
            "+------------------------+------------------------------------------+-----------------+\n",
            "|Certificate_Type        |Organization                              |Certificate_Count|\n",
            "+------------------------+------------------------------------------+-----------------+\n",
            "|Course                  |Google                                    |42               |\n",
            "|Course                  |Google Cloud                              |39               |\n",
            "|Specialization          |IBM                                       |24               |\n",
            "|Course                  |IBM                                       |24               |\n",
            "|Professional Certificate|Google                                    |23               |\n",
            "|Professional Certificate|IBM                                       |21               |\n",
            "|Guided Project          |Coursera Project Network                  |19               |\n",
            "|Specialization          |Google Cloud                              |17               |\n",
            "|Course                  |DeepLearning.AI                           |14               |\n",
            "|Specialization          |University of Pennsylvania                |13               |\n",
            "|Course                  |Johns Hopkins University                  |11               |\n",
            "|Course                  |Duke University                           |11               |\n",
            "|Specialization          |Johns Hopkins University                  |10               |\n",
            "|Professional Certificate|Google Cloud                              |10               |\n",
            "|Specialization          |University of Illinois at Urbana-Champaign|10               |\n",
            "|Specialization          |DeepLearning.AI                           |9                |\n",
            "|Course                  |University of Pennsylvania                |9                |\n",
            "|Course                  |University of Michigan                    |9                |\n",
            "|Professional Certificate|Meta                                      |8                |\n",
            "|Specialization          |University of Colorado Boulder            |8                |\n",
            "+------------------------+------------------------------------------+-----------------+\n",
            "only showing top 20 rows\n",
            "\n"
          ]
        }
      ]
    },
    {
      "cell_type": "markdown",
      "source": [
        "### Analyze Total Certificates Issued by Each Organization"
      ],
      "metadata": {
        "id": "rsp2UqopXzhp"
      }
    },
    {
      "cell_type": "code",
      "source": [
        "# Calculate and display total certificates per organization (Descending Order)\n",
        "total_certificates_by_org = certificate_org_df.groupBy(\"Organization\").agg(\n",
        "    count(\"*\").alias(\"Total_Certificates_Issued\")\n",
        ")\n",
        "\n",
        "total_certificates_by_org = total_certificates_by_org.orderBy(\"Total_Certificates_Issued\", ascending=False)\n",
        "\n",
        "total_certificates_by_org.show(truncate=False)"
      ],
      "metadata": {
        "colab": {
          "base_uri": "https://localhost:8080/"
        },
        "id": "HpGgJ5z00aNk",
        "outputId": "2c131701-48bc-422a-fb15-d78a30f7295b"
      },
      "execution_count": null,
      "outputs": [
        {
          "output_type": "stream",
          "name": "stdout",
          "text": [
            "+------------------------------------------+-------------------------+\n",
            "|Organization                              |Total_Certificates_Issued|\n",
            "+------------------------------------------+-------------------------+\n",
            "|IBM                                       |69                       |\n",
            "|Google Cloud                              |67                       |\n",
            "|Google                                    |65                       |\n",
            "|DeepLearning.AI                           |24                       |\n",
            "|University of Pennsylvania                |22                       |\n",
            "|Johns Hopkins University                  |21                       |\n",
            "|Coursera Project Network                  |19                       |\n",
            "|Duke University                           |18                       |\n",
            "|University of Michigan                    |16                       |\n",
            "|University of Illinois at Urbana-Champaign|15                       |\n",
            "|University of Colorado Boulder            |14                       |\n",
            "|Microsoft                                 |12                       |\n",
            "|Meta                                      |11                       |\n",
            "|University of California, Irvine          |10                       |\n",
            "|INSEAD                                    |8                        |\n",
            "|University of California San Diego        |7                        |\n",
            "|Stanford University                       |7                        |\n",
            "|Amazon Web Services                       |7                        |\n",
            "|Yale University                           |6                        |\n",
            "|University System of Georgia              |6                        |\n",
            "+------------------------------------------+-------------------------+\n",
            "only showing top 20 rows\n",
            "\n"
          ]
        }
      ]
    },
    {
      "cell_type": "code",
      "source": [],
      "metadata": {
        "id": "xCvHEDCy1B_K"
      },
      "execution_count": null,
      "outputs": []
    }
  ]
}